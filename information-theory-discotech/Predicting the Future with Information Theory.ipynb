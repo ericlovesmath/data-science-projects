{
 "cells": [
  {
   "cell_type": "markdown",
   "id": "98df628c",
   "metadata": {},
   "source": [
    "# Predicting the Future with Information Theory\n",
    "\n",
    "In this project I recreate a simulated version of the lecture by Dr. Michelle Effros at Caltech.\n",
    "\n",
    "## Predicting Unpredictable Events\n",
    "\n",
    "Imagine you are hiring a psychic. How do you decide who is a good psychic?\n",
    "\n",
    "A test is devised, where $n$ coins will be flipped.\n",
    "\n",
    "- A psychic must offer a list of possible outcomes of the coin flips\n",
    "- The prediction must be accurate at least 90% of the time to be valid\n",
    "- A more concise prediction set is a better psychic\n",
    "\n",
    "## Mathematical Representation\n",
    "\n",
    "A coin will land heads at chance $p$ or tails at chance $1-p$.\n",
    "\n",
    "Let's represent heads with $0$, and tails with $1$.\n",
    "\n",
    "We can then represent a solution set as:\n",
    "\n",
    "$$A^n \\in \\{0, 1\\}^n$$\n",
    "\n",
    "For example, two coin flips would be $A^2 \\in \\{00, 01, 10, 11\\}$\n",
    "\n",
    "We can represent the conditions and heuristic as such:\n",
    "\n",
    "- Accurate 90% of the time: $P(A^n) \\geq 0.9$\n",
    "- Concise prediction: $\\frac{|A^n|}{2^n}$\n",
    "\n",
    "## Simulation \n",
    "\n",
    "Let's assumine $p = 0.8$; that is, the chance of flipping heads is $80%$.\n",
    "\n",
    "Our strategy will be to keep adding to our prediction set until the set becomes correct at least 90% of the time."
   ]
  },
  {
   "cell_type": "code",
   "execution_count": 24,
   "id": "f1a12188",
   "metadata": {},
   "outputs": [],
   "source": [
    "import matplotlib.pyplot as plt\n",
    "import math\n",
    "%matplotlib inline"
   ]
  },
  {
   "cell_type": "markdown",
   "id": "170758e6",
   "metadata": {},
   "source": [
    "Generate a list of all possible solution sets of size $n$, as well as its likelihood"
   ]
  },
  {
   "cell_type": "code",
   "execution_count": 36,
   "id": "36aa9688",
   "metadata": {
    "scrolled": true
   },
   "outputs": [
    {
     "data": {
      "text/plain": [
       "[[0, 0, 0],\n",
       " [0, 0, 1],\n",
       " [0, 1, 0],\n",
       " [0, 1, 1],\n",
       " [1, 0, 0],\n",
       " [1, 0, 1],\n",
       " [1, 1, 0],\n",
       " [1, 1, 1]]"
      ]
     },
     "execution_count": 36,
     "metadata": {},
     "output_type": "execute_result"
    }
   ],
   "source": [
    "def intToBinaryList(num, max_len):\n",
    "    bin_list = [0 for _ in range(max_len)]\n",
    "    for i in range(num.bit_length()):\n",
    "        bin_list[max_len - i - 1] = num & 1\n",
    "        num >>= 1\n",
    "    return bin_list\n",
    "\n",
    "def solSet(n):\n",
    "    return [intToBinaryList(i, n) for i in range(2 ** n)]\n",
    "\n",
    "solSet(3)"
   ]
  },
  {
   "cell_type": "markdown",
   "id": "986df981",
   "metadata": {},
   "source": [
    "Given a solution set, identify the likelihood of each case"
   ]
  },
  {
   "cell_type": "code",
   "execution_count": 43,
   "id": "b4b83eab",
   "metadata": {
    "scrolled": false
   },
   "outputs": [
    {
     "data": {
      "text/plain": [
       "[([0, 0, 0], 0.5120000000000001),\n",
       " ([0, 0, 1], 0.12800000000000003),\n",
       " ([0, 1, 0], 0.12800000000000003),\n",
       " ([1, 0, 0], 0.12800000000000003),\n",
       " ([0, 1, 1], 0.03200000000000001),\n",
       " ([1, 0, 1], 0.03200000000000001),\n",
       " ([1, 1, 0], 0.03200000000000001),\n",
       " ([1, 1, 1], 0.008000000000000002)]"
      ]
     },
     "execution_count": 43,
     "metadata": {},
     "output_type": "execute_result"
    }
   ],
   "source": [
    "def likelihood(sol):\n",
    "    tails = sum(sol)\n",
    "    heads = len(sol) - tails\n",
    "    return (0.8 ** heads) * (0.2 ** tails)\n",
    "    \n",
    "def likelihoodSet(n):\n",
    "    likelihoods = [(sol, likelihood(sol)) for sol in solSet(n)]\n",
    "    return sorted(likelihoods, key = lambda x: x[1], reverse = True)\n",
    "\n",
    "likelihoodSet(3)"
   ]
  },
  {
   "cell_type": "markdown",
   "id": "e6cc5ec3",
   "metadata": {},
   "source": [
    "Select the solution set until the 90% requirement is met"
   ]
  },
  {
   "cell_type": "code",
   "execution_count": 55,
   "id": "dadb058c",
   "metadata": {
    "scrolled": true
   },
   "outputs": [
    {
     "name": "stdout",
     "output_type": "stream",
     "text": [
      "Number of flips: 3\n",
      "Prediction Set: [[0, 0, 0], [0, 0, 1], [0, 1, 0], [1, 0, 0], [0, 1, 1]]\n",
      "Accuracy: 0.9280000000000002\n",
      "Concision: 0.625\n"
     ]
    }
   ],
   "source": [
    "def predictionSet(n):\n",
    "    \n",
    "    pred_accuracy = 0\n",
    "    pred_set = []\n",
    "    \n",
    "    for sol, likelihood in likelihoodSet(n):\n",
    "        pred_set.append(sol)\n",
    "        pred_accuracy += likelihood\n",
    "        if pred_accuracy > 0.90:\n",
    "            break\n",
    "            \n",
    "    concision = len(pred_set) / 2 ** n\n",
    "    \n",
    "    return (pred_set, pred_accuracy, concision)\n",
    "\n",
    "n = 3\n",
    "pred_set, accuracy, concision = predictionSet(n)\n",
    "\n",
    "print(\"Number of flips:\", n)\n",
    "print(\"Prediction Set:\", pred_set)\n",
    "print(\"Accuracy:\", accuracy)\n",
    "print(\"Concision:\", concision)\n",
    "        \n",
    "        "
   ]
  },
  {
   "cell_type": "code",
   "execution_count": null,
   "id": "b0c77f76",
   "metadata": {},
   "outputs": [],
   "source": []
  }
 ],
 "metadata": {
  "kernelspec": {
   "display_name": "Python 3 (ipykernel)",
   "language": "python",
   "name": "python3"
  },
  "language_info": {
   "codemirror_mode": {
    "name": "ipython",
    "version": 3
   },
   "file_extension": ".py",
   "mimetype": "text/x-python",
   "name": "python",
   "nbconvert_exporter": "python",
   "pygments_lexer": "ipython3",
   "version": "3.9.12"
  }
 },
 "nbformat": 4,
 "nbformat_minor": 5
}
