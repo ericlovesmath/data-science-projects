{
 "cells": [
  {
   "cell_type": "markdown",
   "id": "56340d2e",
   "metadata": {},
   "source": [
    "# Predicting the Future with Information Theory\n",
    "\n",
    "In this project I recreate a simulated version of the lecture by Dr. Michelle Effros at Caltech.\n",
    "\n",
    "## Predicting Unpredictable Events\n",
    "\n",
    "Imagine you are hiring a psychic. How do you decide who is a good psychic?\n",
    "\n",
    "A test is devised, where $n$ coins will be flipped.\n",
    "\n",
    "- A psychic must offer a list of possible outcomes of the coin flips\n",
    "- The prediction must be accurate at least 90% of the time to be valid\n",
    "- A more concise prediction set is a better psychic\n",
    "\n",
    "## Mathematical Representation\n",
    "\n",
    "A coin will land heads at chance $p$ or tails at chance $1-p$.\n",
    "\n",
    "Let's represent heads with $0$, and tails with $1$.\n",
    "\n",
    "We can then represent a solution set as:\n",
    "\n",
    "$$A^n \\in \\{0, 1\\}^n$$\n",
    "\n",
    "For example, two coin flips would be $A^2 \\in \\{00, 01, 10, 11\\}$\n",
    "\n",
    "We can represent the conditions and heuristic as such:\n",
    "\n",
    "- Accurate 90% of the time: $P(A^n) \\geq 0.9$\n",
    "- Concise prediction: $\\frac{|A^n|}{2^n}$\n",
    "\n",
    "## Simulation \n",
    "\n",
    "Let's assumine $p = 0.8$; that is, the chance of flipping heads is $80%$.\n",
    "\n",
    "Our strategy will be to keep adding to our prediction set until the set becomes correct at least 90% of the time."
   ]
  },
  {
   "cell_type": "code",
   "execution_count": 1,
   "id": "90ca8b50",
   "metadata": {},
   "outputs": [],
   "source": [
    "import matplotlib.pyplot as plt\n",
    "%matplotlib inline"
   ]
  },
  {
   "cell_type": "markdown",
   "id": "49480afd",
   "metadata": {},
   "source": [
    "Generate a list of all possible solution sets of size $n$, as well as its likelyhood"
   ]
  },
  {
   "cell_type": "code",
   "execution_count": 15,
   "id": "c022ba64",
   "metadata": {},
   "outputs": [
    {
     "name": "stdout",
     "output_type": "stream",
     "text": [
      "Solution set when n = 3: [[0, 0, 0], [0, 0, 1], [0, 1, 0], [0, 1, 1], [1, 0, 0], [1, 0, 1], [1, 1, 0], [1, 1, 1], [0, 0, 1]]\n"
     ]
    }
   ],
   "source": [
    "def intToBinaryList(num, max_len):\n",
    "    bin_list = [0 for _ in range(max_len)]\n",
    "    for i in range(num.bit_length()):\n",
    "        bin_list[max_len - i - 1] = num & 1\n",
    "        num >>= 1\n",
    "    return bin_list\n",
    "\n",
    "def allSolSets(n):\n",
    "    return [intToBinaryList(i, n) for i in range(n ** 2)]\n",
    "\n",
    "print(f\"Solution set when n = 3: {allSolSets(3)}\")\n",
    "    "
   ]
  },
  {
   "cell_type": "code",
   "execution_count": null,
   "id": "b77e9f20",
   "metadata": {},
   "outputs": [],
   "source": []
  }
 ],
 "metadata": {
  "kernelspec": {
   "display_name": "Python 3 (ipykernel)",
   "language": "python",
   "name": "python3"
  },
  "language_info": {
   "codemirror_mode": {
    "name": "ipython",
    "version": 3
   },
   "file_extension": ".py",
   "mimetype": "text/x-python",
   "name": "python",
   "nbconvert_exporter": "python",
   "pygments_lexer": "ipython3",
   "version": "3.9.12"
  }
 },
 "nbformat": 4,
 "nbformat_minor": 5
}
