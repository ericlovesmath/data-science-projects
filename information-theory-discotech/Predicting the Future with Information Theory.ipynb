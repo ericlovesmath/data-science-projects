{
 "cells": [
  {
   "cell_type": "markdown",
   "id": "98df628c",
   "metadata": {},
   "source": [
    "# Predicting the Future with Information Theory\n",
    "\n",
    "In this project I recreate a simulated version of the lecture by Dr. Michelle Effros at Caltech.\n",
    "\n",
    "## Predicting Unpredictable Events\n",
    "\n",
    "Imagine you are hiring a psychic. How do you decide who is a good psychic?\n",
    "\n",
    "A test is devised, where $n$ coins will be flipped.\n",
    "\n",
    "- A psychic must offer a list of possible outcomes of the coin flips\n",
    "- The prediction must be accurate at least 90% of the time to be valid\n",
    "- A more concise prediction set is a better psychic\n",
    "\n",
    "How would a non-psychic mathematician devise their prediction to maximize their odds?\n",
    "\n",
    "- Should they request more or less coin flips?\n",
    "\n",
    "## Mathematical Representation\n",
    "\n",
    "A coin will land heads at chance $p$ or tails at chance $1-p$.\n",
    "\n",
    "Let's represent heads with $0$, and tails with $1$.\n",
    "\n",
    "We can then represent a solution set as:\n",
    "\n",
    "$$A^n \\in \\{0, 1\\}^n$$\n",
    "\n",
    "For example, two coin flips would be $A^2 \\in \\{00, 01, 10, 11\\}$\n",
    "\n",
    "We can represent the conditions and heuristic as such:\n",
    "\n",
    "- Accurate 90% of the time: $P(A^n) \\geq 0.9$\n",
    "- Concise prediction: $\\frac{|A^n|}{2^n}$\n",
    "\n",
    "## Simulation \n",
    "\n",
    "Let's assumine $p = 0.8$; that is, the chance of flipping heads is $80\\%$.\n",
    "\n",
    "Our strategy will be to keep adding to our prediction set until the set becomes correct at least 90% of the time."
   ]
  },
  {
   "cell_type": "code",
   "execution_count": 40,
   "id": "f1a12188",
   "metadata": {},
   "outputs": [],
   "source": [
    "import pandas as pd\n",
    "import matplotlib.pyplot as plt\n",
    "import math\n",
    "%matplotlib inline"
   ]
  },
  {
   "cell_type": "markdown",
   "id": "170758e6",
   "metadata": {},
   "source": [
    "Generate a list of all possible solution sets of size $n$, as well as its likelihood"
   ]
  },
  {
   "cell_type": "code",
   "execution_count": 3,
   "id": "36aa9688",
   "metadata": {
    "scrolled": true
   },
   "outputs": [
    {
     "data": {
      "text/plain": [
       "[[0, 0, 0],\n",
       " [0, 0, 1],\n",
       " [0, 1, 0],\n",
       " [0, 1, 1],\n",
       " [1, 0, 0],\n",
       " [1, 0, 1],\n",
       " [1, 1, 0],\n",
       " [1, 1, 1]]"
      ]
     },
     "execution_count": 3,
     "metadata": {},
     "output_type": "execute_result"
    }
   ],
   "source": [
    "def intToBinaryList(num, max_len):\n",
    "    bin_list = [0 for _ in range(max_len)]\n",
    "    for i in range(num.bit_length()):\n",
    "        bin_list[max_len - i - 1] = num & 1\n",
    "        num >>= 1\n",
    "    return bin_list\n",
    "\n",
    "def solSet(n):\n",
    "    return [intToBinaryList(i, n) for i in range(2 ** n)]\n",
    "\n",
    "solSet(3)"
   ]
  },
  {
   "cell_type": "markdown",
   "id": "986df981",
   "metadata": {},
   "source": [
    "Given a solution set, identify the likelihood of each case"
   ]
  },
  {
   "cell_type": "code",
   "execution_count": 4,
   "id": "b4b83eab",
   "metadata": {
    "scrolled": false
   },
   "outputs": [
    {
     "data": {
      "text/plain": [
       "[([0, 0, 0], 0.5120000000000001),\n",
       " ([0, 0, 1], 0.12800000000000003),\n",
       " ([0, 1, 0], 0.12800000000000003),\n",
       " ([1, 0, 0], 0.12800000000000003),\n",
       " ([0, 1, 1], 0.03200000000000001),\n",
       " ([1, 0, 1], 0.03200000000000001),\n",
       " ([1, 1, 0], 0.03200000000000001),\n",
       " ([1, 1, 1], 0.008000000000000002)]"
      ]
     },
     "execution_count": 4,
     "metadata": {},
     "output_type": "execute_result"
    }
   ],
   "source": [
    "def likelihood(sol):\n",
    "    tails = sum(sol)\n",
    "    heads = len(sol) - tails\n",
    "    return (0.8 ** heads) * (0.2 ** tails)\n",
    "    \n",
    "def likelihoodSet(n):\n",
    "    likelihoods = [(sol, likelihood(sol)) for sol in solSet(n)]\n",
    "    return sorted(likelihoods, key = lambda x: x[1], reverse = True)\n",
    "\n",
    "likelihoodSet(3)"
   ]
  },
  {
   "cell_type": "markdown",
   "id": "e6cc5ec3",
   "metadata": {},
   "source": [
    "Select the solution set until the 90% requirement is met"
   ]
  },
  {
   "cell_type": "code",
   "execution_count": 5,
   "id": "dadb058c",
   "metadata": {
    "scrolled": true
   },
   "outputs": [
    {
     "name": "stdout",
     "output_type": "stream",
     "text": [
      "Number of flips: 0\n",
      "Prediction Set: [[]]\n",
      "Accuracy: 1.0\n",
      "Concision: 1.0\n"
     ]
    }
   ],
   "source": [
    "def predictionSet(n):\n",
    "    \n",
    "    pred_accuracy = 0\n",
    "    pred_set = []\n",
    "    \n",
    "    for sol, likelihood in likelihoodSet(n):\n",
    "        pred_set.append(sol)\n",
    "        pred_accuracy += likelihood\n",
    "        if pred_accuracy > 0.90:\n",
    "            break\n",
    "            \n",
    "    concision = len(pred_set) / 2 ** n\n",
    "    \n",
    "    return (pred_set, pred_accuracy, concision)\n",
    "\n",
    "n = 3\n",
    "pred_set, accuracy, concision = predictionSet(n)\n",
    "\n",
    "print(\"Number of flips:\", n)\n",
    "print(\"Prediction Set:\", pred_set)\n",
    "print(\"Accuracy:\", accuracy)\n",
    "print(\"Concision:\", concision)"
   ]
  },
  {
   "cell_type": "markdown",
   "id": "561e6593",
   "metadata": {},
   "source": [
    "## Plotting Data\n",
    "\n",
    "Remember that *concision* is the heuristic used, while *accuracy* must exceed 90%"
   ]
  },
  {
   "cell_type": "code",
   "execution_count": 25,
   "id": "2c359159",
   "metadata": {
    "scrolled": true
   },
   "outputs": [
    {
     "data": {
      "text/html": [
       "<div>\n",
       "<style scoped>\n",
       "    .dataframe tbody tr th:only-of-type {\n",
       "        vertical-align: middle;\n",
       "    }\n",
       "\n",
       "    .dataframe tbody tr th {\n",
       "        vertical-align: top;\n",
       "    }\n",
       "\n",
       "    .dataframe thead th {\n",
       "        text-align: right;\n",
       "    }\n",
       "</style>\n",
       "<table border=\"1\" class=\"dataframe\">\n",
       "  <thead>\n",
       "    <tr style=\"text-align: right;\">\n",
       "      <th></th>\n",
       "      <th>accuracy</th>\n",
       "      <th>concision</th>\n",
       "      <th>prediction_set</th>\n",
       "    </tr>\n",
       "    <tr>\n",
       "      <th>num_flips</th>\n",
       "      <th></th>\n",
       "      <th></th>\n",
       "      <th></th>\n",
       "    </tr>\n",
       "  </thead>\n",
       "  <tbody>\n",
       "    <tr>\n",
       "      <th>1</th>\n",
       "      <td>1.00000</td>\n",
       "      <td>1.0000</td>\n",
       "      <td>[[0], [1]]</td>\n",
       "    </tr>\n",
       "    <tr>\n",
       "      <th>2</th>\n",
       "      <td>0.96000</td>\n",
       "      <td>0.7500</td>\n",
       "      <td>[[0, 0], [0, 1], [1, 0]]</td>\n",
       "    </tr>\n",
       "    <tr>\n",
       "      <th>3</th>\n",
       "      <td>0.92800</td>\n",
       "      <td>0.6250</td>\n",
       "      <td>[[0, 0, 0], [0, 0, 1], [0, 1, 0], [1, 0, 0], [...</td>\n",
       "    </tr>\n",
       "    <tr>\n",
       "      <th>4</th>\n",
       "      <td>0.92160</td>\n",
       "      <td>0.5625</td>\n",
       "      <td>[[0, 0, 0, 0], [0, 0, 0, 1], [0, 0, 1, 0], [0,...</td>\n",
       "    </tr>\n",
       "    <tr>\n",
       "      <th>5</th>\n",
       "      <td>0.90112</td>\n",
       "      <td>0.4375</td>\n",
       "      <td>[[0, 0, 0, 0, 0], [0, 0, 0, 0, 1], [0, 0, 0, 1...</td>\n",
       "    </tr>\n",
       "  </tbody>\n",
       "</table>\n",
       "</div>"
      ],
      "text/plain": [
       "           accuracy  concision  \\\n",
       "num_flips                        \n",
       "1           1.00000     1.0000   \n",
       "2           0.96000     0.7500   \n",
       "3           0.92800     0.6250   \n",
       "4           0.92160     0.5625   \n",
       "5           0.90112     0.4375   \n",
       "\n",
       "                                              prediction_set  \n",
       "num_flips                                                     \n",
       "1                                                 [[0], [1]]  \n",
       "2                                   [[0, 0], [0, 1], [1, 0]]  \n",
       "3          [[0, 0, 0], [0, 0, 1], [0, 1, 0], [1, 0, 0], [...  \n",
       "4          [[0, 0, 0, 0], [0, 0, 0, 1], [0, 0, 1, 0], [0,...  \n",
       "5          [[0, 0, 0, 0, 0], [0, 0, 0, 0, 1], [0, 0, 0, 1...  "
      ]
     },
     "execution_count": 25,
     "metadata": {},
     "output_type": "execute_result"
    }
   ],
   "source": [
    "n = 20\n",
    "data = {\n",
    "    'num_flips': [i for i in range(1, n)], \n",
    "    'accuracy': [predictionSet(i)[1] for i in range(1, n)],\n",
    "    'concision': [predictionSet(i)[2] for i in range(1, n)],\n",
    "    'prediction_set': [predictionSet(i)[0] for i in range(1, n)]\n",
    "}\n",
    "\n",
    "#df.index.name = 'num_flips'\n",
    "df = pd.DataFrame(data).set_index('num_flips')\n",
    "\n",
    "df.head()"
   ]
  },
  {
   "cell_type": "markdown",
   "id": "5e7db56f",
   "metadata": {},
   "source": [
    "Graph the concision and accuracy"
   ]
  },
  {
   "cell_type": "code",
   "execution_count": 59,
   "id": "9e96cd38",
   "metadata": {
    "scrolled": false
   },
   "outputs": [
    {
     "data": {
      "image/png": "[encoded data removed]",
      "text/plain": [
       "<Figure size 1224x432 with 2 Axes>"
      ]
     },
     "metadata": {
      "needs_background": "light"
     },
     "output_type": "display_data"
    }
   ],
   "source": [
    "fig, axes = plt.subplots(1, 2,  figsize=(17, 6))\n",
    "\n",
    "axes[0].scatter(df.index, df[\"concision\"])\n",
    "axes[0].set_title(\"Number of Coin Flips vs Concision\")\n",
    "axes[0].set_xlabel(\"Number of Coin Flips\")\n",
    "axes[0].set_ylabel(\"Concision\")\n",
    "\n",
    "axes[1].scatter(df.index, df[\"accuracy\"])\n",
    "axes[1].set_title(\"Number of Coin Flips vs Accuracy\")\n",
    "axes[1].set_xlabel(\"Number of Coin Flips\")\n",
    "axes[1].set_ylabel(\"Accuracy\");"
   ]
  },
  {
   "cell_type": "markdown",
   "id": "f3db017a",
   "metadata": {},
   "source": [
    "## Conclusion\n",
    "\n",
    "Generally, it seems that accuracy will tend to 90% as expected, as the fractional part decreases in size. As we don't consider accuracy to be a heuristic, this is mostly unimportant.\n",
    "\n",
    "Concision on the other hand ironically seems to be decreasing as $n$ increases, implying that a prediction set would be *better if more flips were requested*. Although it is intuitive to assume the stochastic nature of a smaller $n$ to be of benefit to the mathematician, it is in fact an incorrect intuition.\n",
    "\n",
    "# Additional Maths\n",
    "\n",
    "However, as observed, a larger *n* doesn't mean it is *strictly* better, just *tends* to be better.\n",
    "\n",
    "Here are some interesting properties:\n",
    "\n",
    "- $A^{n+1} = \\{x^n0, x^n1: x^n \\in A^n\\}$\n",
    "- $\\frac{|A^{n+1}|}{2^{n+1}} = \\frac{2|A^n|}{2\\cdot 2^n} = \\frac{|A^n|}{2^n}$\n",
    "\n",
    "\\begin{align*}\n",
    "P(A^{n+1}) &= \\sum_{x^{n+1} \\in A^n} p(x^{n+1}) \\\\\n",
    "&= \\sum_{x^n \\in A^n} p(x^n0) + p(x^n1) \\\\\n",
    "&= \\sum_{x^n \\in A^n} p(x^n)\\cdot (1-p) + p(x^n)\\cdot p \\\\\n",
    "&= \\sum_{x^n \\in A^n} p(x^n) \\\\\n",
    "&= P(A^n)\n",
    "\\end{align*}\n",
    "\n"
   ]
  }
 ],
 "metadata": {
  "kernelspec": {
   "display_name": "Python 3 (ipykernel)",
   "language": "python",
   "name": "python3"
  },
  "language_info": {
   "codemirror_mode": {
    "name": "ipython",
    "version": 3
   },
   "file_extension": ".py",
   "mimetype": "text/x-python",
   "name": "python",
   "nbconvert_exporter": "python",
   "pygments_lexer": "ipython3",
   "version": "3.9.12"
  }
 },
 "nbformat": 4,
 "nbformat_minor": 5
}
