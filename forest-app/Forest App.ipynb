{
 "cells": [
  {
   "cell_type": "markdown",
   "id": "642f1beb",
   "metadata": {},
   "source": [
    "# Forest App Analysis\n",
    "\n",
    "In this project, I analyzed the time to coin ratios of [Forest](https://www.forestapp.cc/), an app designed to reward your time studying with virtual forests."
   ]
  },
  {
   "cell_type": "markdown",
   "id": "9e142e71",
   "metadata": {},
   "source": [
    "## Preparation\n"
   ]
  },
  {
   "cell_type": "code",
   "execution_count": 32,
   "id": "dbaa92ce",
   "metadata": {
    "scrolled": true
   },
   "outputs": [],
   "source": [
    "import pandas as pd\n",
    "import matplotlib.pyplot as plt\n",
    "%matplotlib inline"
   ]
  },
  {
   "cell_type": "code",
   "execution_count": 54,
   "id": "89d5df56",
   "metadata": {},
   "outputs": [
    {
     "data": {
      "text/html": [
       "<div>\n",
       "<style scoped>\n",
       "    .dataframe tbody tr th:only-of-type {\n",
       "        vertical-align: middle;\n",
       "    }\n",
       "\n",
       "    .dataframe tbody tr th {\n",
       "        vertical-align: top;\n",
       "    }\n",
       "\n",
       "    .dataframe thead th {\n",
       "        text-align: right;\n",
       "    }\n",
       "</style>\n",
       "<table border=\"1\" class=\"dataframe\">\n",
       "  <thead>\n",
       "    <tr style=\"text-align: right;\">\n",
       "      <th></th>\n",
       "      <th>minutes</th>\n",
       "      <th>coins</th>\n",
       "    </tr>\n",
       "  </thead>\n",
       "  <tbody>\n",
       "    <tr>\n",
       "      <th>0</th>\n",
       "      <td>10</td>\n",
       "      <td>3</td>\n",
       "    </tr>\n",
       "    <tr>\n",
       "      <th>1</th>\n",
       "      <td>15</td>\n",
       "      <td>4</td>\n",
       "    </tr>\n",
       "    <tr>\n",
       "      <th>2</th>\n",
       "      <td>20</td>\n",
       "      <td>5</td>\n",
       "    </tr>\n",
       "    <tr>\n",
       "      <th>3</th>\n",
       "      <td>25</td>\n",
       "      <td>9</td>\n",
       "    </tr>\n",
       "    <tr>\n",
       "      <th>4</th>\n",
       "      <td>30</td>\n",
       "      <td>10</td>\n",
       "    </tr>\n",
       "  </tbody>\n",
       "</table>\n",
       "</div>"
      ],
      "text/plain": [
       "   minutes  coins\n",
       "0       10      3\n",
       "1       15      4\n",
       "2       20      5\n",
       "3       25      9\n",
       "4       30     10"
      ]
     },
     "execution_count": 54,
     "metadata": {},
     "output_type": "execute_result"
    }
   ],
   "source": [
    "df = pd.read_csv(\"forest.csv\")\n",
    "df.head()"
   ]
  },
  {
   "cell_type": "markdown",
   "id": "956fc448",
   "metadata": {},
   "source": [
    "Dataset contains coins earned from the minutes of studying it takes to earn it.\n",
    "Data is up to 2 hours, the maximum amount possible in Forest by default."
   ]
  },
  {
   "cell_type": "markdown",
   "id": "99c77855",
   "metadata": {},
   "source": [
    "## Testing the given algorithm\n",
    "\n",
    "The [algorithm on Forest's blog](http://help.forestapp.cc/en/articles/2328680-coin-reward-formula) to calculate this data is stated to be\n",
    "\n",
    "> 4 + (1 per 5 minutes) + (5 per 30 minutes past the 30 minute mark)"
   ]
  },
  {
   "cell_type": "code",
   "execution_count": 55,
   "id": "3b3b71a7",
   "metadata": {
    "scrolled": false
   },
   "outputs": [
    {
     "data": {
      "image/png": "[encoded data removed]",
      "text/plain": [
       "<Figure size 432x288 with 1 Axes>"
      ]
     },
     "metadata": {
      "needs_background": "light"
     },
     "output_type": "display_data"
    }
   ],
   "source": [
    "def forestAlg(time):\n",
    "    if time >= 30:\n",
    "        return 4 + (time // 5) + 5 * ((time - 30) // 30)\n",
    "    else:\n",
    "        return 1 + time // 5\n",
    "    \n",
    "plt.scatter(df[\"minutes\"], df[\"coins\"]);\n",
    "plt.scatter(df[\"minutes\"], df.apply(lambda row: forestAlg(row.minutes), axis=1));"
   ]
  },
  {
   "cell_type": "markdown",
   "id": "0e994e0b",
   "metadata": {},
   "source": [
    "It seems like the algorithm listed fails at the 25 minute mark, but no other time."
   ]
  },
  {
   "cell_type": "markdown",
   "id": "cf216d45",
   "metadata": {},
   "source": [
    "## Analyzing coins per minute"
   ]
  },
  {
   "cell_type": "code",
   "execution_count": 56,
   "id": "7fc11809",
   "metadata": {
    "scrolled": false
   },
   "outputs": [
    {
     "data": {
      "text/html": [
       "<div>\n",
       "<style scoped>\n",
       "    .dataframe tbody tr th:only-of-type {\n",
       "        vertical-align: middle;\n",
       "    }\n",
       "\n",
       "    .dataframe tbody tr th {\n",
       "        vertical-align: top;\n",
       "    }\n",
       "\n",
       "    .dataframe thead th {\n",
       "        text-align: right;\n",
       "    }\n",
       "</style>\n",
       "<table border=\"1\" class=\"dataframe\">\n",
       "  <thead>\n",
       "    <tr style=\"text-align: right;\">\n",
       "      <th></th>\n",
       "      <th>minutes</th>\n",
       "      <th>coins</th>\n",
       "      <th>coins_per_minute</th>\n",
       "    </tr>\n",
       "  </thead>\n",
       "  <tbody>\n",
       "    <tr>\n",
       "      <th>0</th>\n",
       "      <td>10</td>\n",
       "      <td>3</td>\n",
       "      <td>0.3000</td>\n",
       "    </tr>\n",
       "    <tr>\n",
       "      <th>1</th>\n",
       "      <td>15</td>\n",
       "      <td>4</td>\n",
       "      <td>0.2667</td>\n",
       "    </tr>\n",
       "    <tr>\n",
       "      <th>2</th>\n",
       "      <td>20</td>\n",
       "      <td>5</td>\n",
       "      <td>0.2500</td>\n",
       "    </tr>\n",
       "    <tr>\n",
       "      <th>3</th>\n",
       "      <td>25</td>\n",
       "      <td>9</td>\n",
       "      <td>0.3600</td>\n",
       "    </tr>\n",
       "    <tr>\n",
       "      <th>4</th>\n",
       "      <td>30</td>\n",
       "      <td>10</td>\n",
       "      <td>0.3333</td>\n",
       "    </tr>\n",
       "  </tbody>\n",
       "</table>\n",
       "</div>"
      ],
      "text/plain": [
       "   minutes  coins  coins_per_minute\n",
       "0       10      3            0.3000\n",
       "1       15      4            0.2667\n",
       "2       20      5            0.2500\n",
       "3       25      9            0.3600\n",
       "4       30     10            0.3333"
      ]
     },
     "execution_count": 56,
     "metadata": {},
     "output_type": "execute_result"
    }
   ],
   "source": [
    "df[\"coins_per_minute\"] = round(df[\"coins\"] / df[\"minutes\"], 4)\n",
    "df.head()"
   ]
  },
  {
   "cell_type": "code",
   "execution_count": 59,
   "id": "ebf52e97",
   "metadata": {
    "scrolled": true
   },
   "outputs": [
    {
     "data": {
      "image/png": "[encoded data removed]",
      "text/plain": [
       "<Figure size 432x288 with 1 Axes>"
      ]
     },
     "metadata": {
      "needs_background": "light"
     },
     "output_type": "display_data"
    }
   ],
   "source": [
    "plt.plot(df[\"minutes\"], df[\"coins_per_minute\"], marker='o');"
   ]
  },
  {
   "cell_type": "markdown",
   "id": "f154081b",
   "metadata": {},
   "source": [
    "## Conclusion\n",
    "\n",
    "Ironically, working in 25 minute bursts is the most effective way to earn coins.\n",
    "\n",
    "Perhaps this was intended behavior to encourage the standard 25 minute Pomodoro block."
   ]
  }
 ],
 "metadata": {
  "kernelspec": {
   "display_name": "Python 3 (ipykernel)",
   "language": "python",
   "name": "python3"
  },
  "language_info": {
   "codemirror_mode": {
    "name": "ipython",
    "version": 3
   },
   "file_extension": ".py",
   "mimetype": "text/x-python",
   "name": "python",
   "nbconvert_exporter": "python",
   "pygments_lexer": "ipython3",
   "version": "3.9.12"
  }
 },
 "nbformat": 4,
 "nbformat_minor": 5
}
